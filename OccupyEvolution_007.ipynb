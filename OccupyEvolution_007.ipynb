{
 "cells": [
  {
   "cell_type": "code",
   "execution_count": 5,
   "metadata": {},
   "outputs": [
    {
     "name": "stdout",
     "output_type": "stream",
     "text": [
      "total gender distribution equals 100%\n"
     ]
    },
    {
     "data": {
      "text/html": [
       "<div>\n",
       "<style scoped>\n",
       "    .dataframe tbody tr th:only-of-type {\n",
       "        vertical-align: middle;\n",
       "    }\n",
       "\n",
       "    .dataframe tbody tr th {\n",
       "        vertical-align: top;\n",
       "    }\n",
       "\n",
       "    .dataframe thead th {\n",
       "        text-align: right;\n",
       "    }\n",
       "</style>\n",
       "<table border=\"1\" class=\"dataframe\">\n",
       "  <thead>\n",
       "    <tr style=\"text-align: right;\">\n",
       "      <th></th>\n",
       "      <th>Gender</th>\n",
       "      <th>top category</th>\n",
       "      <th>sub category</th>\n",
       "    </tr>\n",
       "  </thead>\n",
       "  <tbody>\n",
       "    <tr>\n",
       "      <th>0</th>\n",
       "      <td>female</td>\n",
       "      <td>Office_and_administrative_support_occupations</td>\n",
       "      <td>[Secretaries_and_administrative_assistants_exc...</td>\n",
       "    </tr>\n",
       "    <tr>\n",
       "      <th>1</th>\n",
       "      <td>female</td>\n",
       "      <td>Community_and_social_service_occupations</td>\n",
       "      <td>[Social_and_human_service_assistants]</td>\n",
       "    </tr>\n",
       "    <tr>\n",
       "      <th>2</th>\n",
       "      <td>female</td>\n",
       "      <td>Construction_and_extraction_occupations</td>\n",
       "      <td>[Electricians]</td>\n",
       "    </tr>\n",
       "    <tr>\n",
       "      <th>3</th>\n",
       "      <td>female</td>\n",
       "      <td>Construction_and_extraction_occupations</td>\n",
       "      <td>[Painters_construction_and_maintenance]</td>\n",
       "    </tr>\n",
       "    <tr>\n",
       "      <th>4</th>\n",
       "      <td>male</td>\n",
       "      <td>Personal_care_and_service_occupations</td>\n",
       "      <td>[Childcare_workers]</td>\n",
       "    </tr>\n",
       "    <tr>\n",
       "      <th>...</th>\n",
       "      <td>...</td>\n",
       "      <td>...</td>\n",
       "      <td>...</td>\n",
       "    </tr>\n",
       "    <tr>\n",
       "      <th>95</th>\n",
       "      <td>female</td>\n",
       "      <td>Production_occupations</td>\n",
       "      <td>[Miscellaneous_assemblers_and_fabricators]</td>\n",
       "    </tr>\n",
       "    <tr>\n",
       "      <th>96</th>\n",
       "      <td>female</td>\n",
       "      <td>Management_occupations</td>\n",
       "      <td>[Medical_and_health_services_managers]</td>\n",
       "    </tr>\n",
       "    <tr>\n",
       "      <th>97</th>\n",
       "      <td>female</td>\n",
       "      <td>Transportation_and_material_moving_occupations</td>\n",
       "      <td>[Stockers_and_order_fillers]</td>\n",
       "    </tr>\n",
       "    <tr>\n",
       "      <th>98</th>\n",
       "      <td>female</td>\n",
       "      <td>Sales_and_related_occupations</td>\n",
       "      <td>[Cashiers]</td>\n",
       "    </tr>\n",
       "    <tr>\n",
       "      <th>99</th>\n",
       "      <td>male</td>\n",
       "      <td>Business_and_financial_operations_occupations</td>\n",
       "      <td>[Training_and_development_specialists]</td>\n",
       "    </tr>\n",
       "  </tbody>\n",
       "</table>\n",
       "<p>100 rows × 3 columns</p>\n",
       "</div>"
      ],
      "text/plain": [
       "    Gender                                    top category  \\\n",
       "0   female   Office_and_administrative_support_occupations   \n",
       "1   female        Community_and_social_service_occupations   \n",
       "2   female         Construction_and_extraction_occupations   \n",
       "3   female         Construction_and_extraction_occupations   \n",
       "4     male           Personal_care_and_service_occupations   \n",
       "..     ...                                             ...   \n",
       "95  female                          Production_occupations   \n",
       "96  female                          Management_occupations   \n",
       "97  female  Transportation_and_material_moving_occupations   \n",
       "98  female                   Sales_and_related_occupations   \n",
       "99    male   Business_and_financial_operations_occupations   \n",
       "\n",
       "                                         sub category  \n",
       "0   [Secretaries_and_administrative_assistants_exc...  \n",
       "1               [Social_and_human_service_assistants]  \n",
       "2                                      [Electricians]  \n",
       "3             [Painters_construction_and_maintenance]  \n",
       "4                                 [Childcare_workers]  \n",
       "..                                                ...  \n",
       "95         [Miscellaneous_assemblers_and_fabricators]  \n",
       "96             [Medical_and_health_services_managers]  \n",
       "97                       [Stockers_and_order_fillers]  \n",
       "98                                         [Cashiers]  \n",
       "99             [Training_and_development_specialists]  \n",
       "\n",
       "[100 rows x 3 columns]"
      ]
     },
     "execution_count": 5,
     "metadata": {},
     "output_type": "execute_result"
    }
   ],
   "source": [
    "#Imports\n",
    "import pandas as pd\n",
    "import numpy as np\n",
    "import random\n",
    "\n",
    "\n",
    "#Load database file(s)\n",
    "#Source: Employment Projections program, U.S. Bureau of Labor Statistics\n",
    "#Run excel datafile on Windows  =1, or MacOS =0 (edited excel version for better usability)\n",
    "Windows_version = 1\n",
    "#for Windows \n",
    "if Windows_version ==1:\n",
    "    xls = pd.ExcelFile(r'C:\\Users\\Nasim\\Desktop\\Evolution_game_project\\occupation_canedit.xlsx')\n",
    "else:\n",
    "    #for Mac\n",
    "    xls = pd.ExcelFile(r'/Users/nasimnassar/Desktop/OccupyEvolution/occupation_canedit.xlsx')\n",
    "#Random seeds\n",
    "#Fixed seed\n",
    "\n",
    "#Load sheets as dataframes\n",
    "df1 = pd.read_excel(xls, 'Table 1.2') #Main Database\n",
    "df2 = pd.read_excel(xls, 'Table 1.3')\n",
    "\n",
    "#Data quality check\n",
    "# edit to =1 if on, =0 if off\n",
    "data_test = 1 \n",
    "\n",
    "#Headers\n",
    "Occupation_titles = df1['2019 National Employment Matrix title'].tolist()\n",
    "Occupation_code = df1['2019 National Employment Matrix code'].tolist()\n",
    "Occupation_type = df1['Occupation type'].tolist()\n",
    "Occupation_2019 = df1['Employment, 2019'].tolist()\n",
    "Occupation_2029 = df1['Employment, 2029'].tolist()\n",
    "Occupation_percent_2019 = df1['Employment distribution, percent, 2019'].tolist()\n",
    "Occupation_percent_2029 = df1['Employment distribution, percent, 2029'].tolist()\n",
    "Occupation_change_numeric = df1['Employment change, numeric, 2019-29'].tolist()\n",
    "Occupation_change_percent = df1['Employment change, percent, 2019-29'].tolist()\n",
    "Occupation_annual_average = df1['Occupational openings, 2019-29 annual average'].tolist()\n",
    "\n",
    "#Edit headers into usable strings\n",
    "Employment_titles = [0]*len(Occupation_titles)\n",
    "count = 0        \n",
    "for i in range(len(Occupation_titles)):\n",
    "    count += 1\n",
    "    Employment_titles_temp = Occupation_titles[count-1].replace(' ', '_')\n",
    "    Employment_titles_temp2 = Employment_titles_temp.replace(',', '')\n",
    "    Employment_titles[count-1] = Employment_titles_temp2\n",
    "#print(Employment_titles)\n",
    "\n",
    "#Add additional strings \"_all\" & \"_sum\"\n",
    "Employment_titles_all = [0]*len(Employment_titles)\n",
    "Employment_titles_sum = [0]*len(Employment_titles)\n",
    "count = 0\n",
    "for i in range(len(Employment_titles)):\n",
    "    count += 1\n",
    "    Employment_titles_all[count-1] = Employment_titles[count-1] + '_all'\n",
    "    Employment_titles_sum[count-1] = Employment_titles[count-1] + '_sum'\n",
    "#print(Employment_titles_all)\n",
    "#pring(Employment_titles_sum)\n",
    "\n",
    "#Define top and subcategories\n",
    "# Occupation (all) top and sub-categories (Summary vs Line item) and index\n",
    "Occupation_code_allcategories = df1['2019 National Employment Matrix code'].loc[df1['Occupation type'] == 'Summary']\n",
    "Occupation_code_allcategories_index = Occupation_code_allcategories.index\n",
    "# Occupation code top categories and index\n",
    "Occupation_code_topcategories = df1[df1['2019 National Employment Matrix code'].str.contains('-0000', regex=False)]\n",
    "Occupation_code_topcategories_index = Occupation_code_topcategories.index\n",
    "# Line item occupations and index\n",
    "Occupation_code_lineitems = df1.loc[df1['Occupation type'] == 'Line item']\n",
    "Occupation_code_lineitems_index = Occupation_code_lineitems.index\n",
    "# Line item occupation numbers and index\n",
    "Occupation_name_lineitems = df1['Employment, 2019'].loc[df1['Occupation type'] == 'Line item']\n",
    "Occupation_name_lineitems_index = Occupation_name_lineitems.index\n",
    "\n",
    "\n",
    "#Empty lists\n",
    "Matrix_code_topcategories = [0]*len(Employment_titles)\n",
    "Matrix_code_subcategories = [0]*len(Employment_titles)\n",
    "Matrix_code_lineitems = [0]*len(Employment_titles)\n",
    "Matrix_code_subsubcategories = [0]*len(Employment_titles)\n",
    "\n",
    "Employment_titles_topcategories = [0]*len(Employment_titles)\n",
    "Employment_titles_subcategories = [0]*len(Employment_titles)\n",
    "Employment_titles_lineitems = [0]*len(Employment_titles)\n",
    "Employment_titles_subsubcategories = [0]*len(Employment_titles)\n",
    "\n",
    "Occupation_2019_numbers_top = [0]*len(Employment_titles)\n",
    "Occupation_2019_numbers_sub = [0]*len(Employment_titles)\n",
    "Occupation_2019_numbers_lineitem = [0]*len(Employment_titles)\n",
    "Occupation_2019_numbers_subsub = [0]*len(Employment_titles)\n",
    "\n",
    "#Separate top and subcategories from actual employment titles\n",
    "count = 0\n",
    "for i in range(len(Employment_titles)):\n",
    "    count += 1\n",
    "    # separate \"Summary\" from \"Line item\"\n",
    "    if i in Occupation_code_allcategories_index:\n",
    "        #Separate top categories from sub categories (1st level)\n",
    "        if str('-0000') in Occupation_code[i]:\n",
    "            Matrix_code_topcategories[i] = Occupation_code[i]\n",
    "            Employment_titles_topcategories[i] = Employment_titles[i]\n",
    "            Occupation_2019_numbers_top[i] = Occupation_2019[i]\n",
    "        else:\n",
    "            if str('000') in Occupation_code[i]:\n",
    "                # if separate sub (2nd level) from subsub (3rd level category) \n",
    "                Matrix_code_subcategories[i] = Occupation_code[i]\n",
    "                Employment_titles_subcategories[i] = Employment_titles[i]\n",
    "                Occupation_2019_numbers_sub[i] = Occupation_2019[i]\n",
    "            else:\n",
    "                Matrix_code_subsubcategories[i] = Occupation_code[i]\n",
    "                Employment_titles_subsubcategories[i] = Employment_titles[i]\n",
    "                Occupation_2019_numbers_subsub[i] = Occupation_2019[i]\n",
    "    # if \"Line item\" (4th level)\n",
    "    else:\n",
    "        Matrix_code_lineitems[i] = Occupation_code[i]\n",
    "        Employment_titles_lineitems[i] = Employment_titles[i]\n",
    "        Occupation_2019_numbers_lineitem[i] = Occupation_2019[i]\n",
    "\n",
    "#print(Matrix_code_topcategories)    \n",
    "#print(Employment_titles_topcategories)       \n",
    "#print(Matrix_code_subcategories)    \n",
    "#print(Employment_titles_subcategories)\n",
    "#print(Matrix_code_lineitems)    \n",
    "#print(Employment_titles_lineitems)\n",
    "\n",
    "# Quality Check!\n",
    "Percent_employments_2019 = [0]*len(Employment_titles)\n",
    "Number_employments_2019 = [0]*len(Employment_titles)\n",
    "count=0\n",
    "if data_test == 1:\n",
    "    total_occupation_number = Occupation_2019_numbers_top[0]\n",
    "    temp = Occupation_2019_numbers_top\n",
    "    del temp[0]\n",
    "    Occupation_2019_numbers_top_sum = sum(temp)\n",
    "    Occupation_2019_numbers_sub_sum = sum(Occupation_2019_numbers_sub)\n",
    "    Occupation_2019_numbers_lineitem_sum =sum(Occupation_2019_numbers_lineitem)\n",
    "    Occupation_2019_numbers_subsub_sum = sum(Occupation_2019_numbers_subsub)\n",
    "    \n",
    "#print(Occupation_2019_numbers_top_sum)\n",
    "#print(Occupation_2019_numbers_sub_sum)\n",
    "#print(Occupation_2019_numbers_lineitem_sum)\n",
    "#print(Occupation_2019_numbers_subsub_sum)\n",
    "\n",
    "#New precentages\n",
    "Occupation_percent_2019_new = [0]*len(Occupation_percent_2019)\n",
    "Occupation_percent_2029_new = [0]*len(Occupation_percent_2029)\n",
    "for i in range(len(Occupation_percent_2019)):\n",
    "    Occupation_percent_2019_new[i] = (Occupation_2019[i]/Occupation_2019[0])*100\n",
    "    Occupation_percent_2029_new[i] = (Occupation_2029[i]/Occupation_2029[0])*100\n",
    "#print(sum(Occupation_percent_2019_new))\n",
    "#print(sum(Occupation_percent_2019))\n",
    "\n",
    "\n",
    "#Probability of being in any top category\n",
    "reduced_Employment_titles_topcategories = [i for i in Employment_titles_topcategories if i != 0]\n",
    "del reduced_Employment_titles_topcategories[0]\n",
    "#reduced_Employment_titles_topcategories\n",
    "probability_for_top_category = [0]*len(Occupation_code_topcategories_index)\n",
    "count=0\n",
    "for i in Occupation_code_topcategories_index:\n",
    "    count +=1\n",
    "    probability_for_top_category[count-1] = Occupation_percent_2019_new[i]\n",
    "del probability_for_top_category[0]\n",
    "#probability_for_top_category\n",
    "\n",
    "#Create society\n",
    "\n",
    "#Define population size\n",
    "population_size = 100\n",
    "#Define genders # if exactly 0, 0.5, or 1.0 other\n",
    "gender = ['male', 'female', 'other']\n",
    "#Define gender bias # 0.01 to 0.49 female dominant, 0.51 - 0.99 male dominant\n",
    "gender_bias = 0.4\n",
    "gender_other = 0.000001\n",
    "#Distributions\n",
    "gender_distribution_male = (1 - gender_other)*gender_bias\n",
    "gender_distribution_female = (1 - gender_other)*(1-gender_bias)\n",
    "\n",
    "if gender_distribution_female + gender_distribution_male + gender_other ==1:\n",
    "    print('total gender distribution equals 100%')\n",
    "else:\n",
    "    if abs(1-(gender_distribution_female + gender_distribution_male + gender_other)) < 0.0001:\n",
    "        print('total gender distribution almost equals 100%')\n",
    "    else:\n",
    "        print('gender distribution error!')\n",
    "\n",
    "#create individuals with genders\n",
    "population_gender = random.choices(population=gender,\n",
    "                                   weights=[gender_distribution_male, \n",
    "                                            gender_distribution_female, \n",
    "                                            gender_other],\n",
    "                                   k=population_size)\n",
    "population_df = pd.DataFrame(population_gender)\n",
    "\n",
    "#Create individual occupation\n",
    "#Assign top category\n",
    "individual_occupation_top_category = random.choices(population=reduced_Employment_titles_topcategories,\n",
    "                                                    weights=probability_for_top_category,\n",
    "                                                    k=population_size)\n",
    "#print(individual_occupation_top_category)\n",
    "\n",
    "population_df = pd.DataFrame(list(zip(population_gender, individual_occupation_top_category)),\n",
    "                columns =['Gender', 'top category'])\n",
    "\n",
    "#Assign sub category\n",
    "lower_boundary_topcategory = [0]*population_size\n",
    "upper_boundary_topcategory = [len(Employment_titles)]*population_size\n",
    "individual_occupation_sub_category = [0]*population_size\n",
    "#individual_occupation_sub_category\n",
    "count = 0\n",
    "for i in individual_occupation_top_category:\n",
    "    count += 1\n",
    "    #Where top category starts\n",
    "    lower_boundary_topcategory[count-1] = Employment_titles.index(i)\n",
    "    #Where top category ends\n",
    "    for ii in Occupation_code_topcategories_index:\n",
    "        #print(lower_boundary_topcategory)\n",
    "        if ii > lower_boundary_topcategory[count-1]:\n",
    "            upper_boundary_topcategory[count-1] = ii\n",
    "            probability_for_sub_category = Occupation_percent_2019_new[lower_boundary_topcategory[count-1]+1:\n",
    "                                                                       upper_boundary_topcategory[count-1]-1]\n",
    "            temp2 = [x for x in Occupation_name_lineitems_index \n",
    "                     if lower_boundary_topcategory[count-1] <= x <= upper_boundary_topcategory[count-1]]\n",
    "            Number_employments_2019_subcategory = [0]*len(temp2)\n",
    "            individual_occupation_sub_categories = [0]*len(temp2)\n",
    "            count2=0\n",
    "            for i in temp2:\n",
    "                count2 += 1\n",
    "                Number_employments_2019_subcategory[count2-1] = Occupation_2019[i]\n",
    "                individual_occupation_sub_categories[count2-1] = Employment_titles[i]\n",
    "            #print(Number_employments_2019_subcategory)\n",
    "            \n",
    "            probability_for_sub_category_new = [x / Occupation_2019[lower_boundary_topcategory[count-1]] for x in Number_employments_2019_subcategory]\n",
    "            \n",
    "            individual_occupation_sub_category[count-1] = random.choices(population=individual_occupation_sub_categories,\n",
    "                                                                         weights=probability_for_sub_category_new,\n",
    "                                                                         k=1)\n",
    "            break\n",
    "        if ii == max(Occupation_code_topcategories_index):\n",
    "            upper_boundary_topcategory[count-1] = len(Employment_titles)\n",
    "            probability_for_sub_category = Occupation_percent_2019_new[lower_boundary_topcategory[count-1]+1:\n",
    "                                                                       upper_boundary_topcategory[count-1]-1]\n",
    "            temp2 = [x for x in Occupation_name_lineitems_index \n",
    "                     if lower_boundary_topcategory[count-1] <= x <= upper_boundary_topcategory[count-1]]\n",
    "            Number_employments_2019_subcategory = [0]*len(temp2)\n",
    "            individual_occupation_sub_categories = [0]*len(temp2)\n",
    "            count2=0\n",
    "            for i in temp2:\n",
    "                count2 += 1\n",
    "                Number_employments_2019_subcategory[count2-1] = Occupation_2019[i]\n",
    "                individual_occupation_sub_categories[count2-1] = Employment_titles[i]\n",
    "            #print(Number_employments_2019_subcategory)\n",
    "                \n",
    "            probability_for_sub_category_new = [x / Occupation_2019[lower_boundary_topcategory[count-1]] for x in Number_employments_2019_subcategory]\n",
    "            \n",
    "            individual_occupation_sub_category[count-1] = random.choices(population=individual_occupation_sub_categories,\n",
    "                                                                         weights=probability_for_sub_category_new,\n",
    "                                                                         k=1)\n",
    "    \n",
    "            break\n",
    "    else:\n",
    "        continue\n",
    "    \n",
    "#print(lower_boundary_topcategory)            \n",
    "#print(upper_boundary_topcategory)\n",
    "population_df = pd.DataFrame(list(zip(population_gender, \n",
    "                                      individual_occupation_top_category, \n",
    "                                      individual_occupation_sub_category)),\n",
    "                    columns =['Gender', 'top category', 'sub category'])\n",
    "population_df"
   ]
  },
  {
   "cell_type": "code",
   "execution_count": 11,
   "metadata": {},
   "outputs": [
    {
     "data": {
      "text/plain": [
       "['Top_executives',\n",
       " 'Chief_executives',\n",
       " 'General_and_operations_managers',\n",
       " 'Legislators',\n",
       " 'Advertising_marketing_promotions_public_relations_and_sales_managers',\n",
       " 'Advertising_and_promotions_managers',\n",
       " 'Marketing_and_sales_managers',\n",
       " 'Marketing_managers',\n",
       " 'Sales_managers',\n",
       " 'Public_relations_and_fundraising_managers',\n",
       " 'Operations_specialties_managers',\n",
       " 'Administrative_services_and_facilities_managers',\n",
       " 'Computer_and_information_systems_managers',\n",
       " 'Financial_managers',\n",
       " 'Industrial_production_managers',\n",
       " 'Purchasing_managers',\n",
       " 'Transportation_storage_and_distribution_managers',\n",
       " 'Compensation_and_benefits_managers',\n",
       " 'Human_resources_managers',\n",
       " 'Training_and_development_managers',\n",
       " 'Other_management_occupations',\n",
       " 'Farmers_ranchers_and_other_agricultural_managers',\n",
       " 'Construction_managers',\n",
       " 'Education_and_childcare_administrators',\n",
       " 'Education_and_childcare_administrators_preschool_and_daycare',\n",
       " 'Education_administrators_kindergarten_through_secondary',\n",
       " 'Education_administrators_postsecondary',\n",
       " 'Education_administrators_all_other',\n",
       " 'Architectural_and_engineering_managers',\n",
       " 'Food_service_managers',\n",
       " 'Gambling_managers',\n",
       " 'Lodging_managers',\n",
       " 'Medical_and_health_services_managers',\n",
       " 'Natural_sciences_managers',\n",
       " 'Postmasters_and_mail_superintendents',\n",
       " 'Property_real_estate_and_community_association_managers',\n",
       " 'Social_and_community_service_managers',\n",
       " 'Emergency_management_directors',\n",
       " 'Funeral_home_managers']"
      ]
     },
     "execution_count": 11,
     "metadata": {},
     "output_type": "execute_result"
    }
   ],
   "source": [
    "Employment_titles[lower_boundary_topcategory[count-1]+1:upper_boundary_topcategory[count-1]-1]"
   ]
  },
  {
   "cell_type": "code",
   "execution_count": 10,
   "metadata": {},
   "outputs": [],
   "source": [
    "probability_for_sub_category_new?"
   ]
  },
  {
   "cell_type": "code",
   "execution_count": 2,
   "metadata": {},
   "outputs": [
    {
     "data": {
      "text/plain": [
       "10697.2"
      ]
     },
     "execution_count": 2,
     "metadata": {},
     "output_type": "execute_result"
    }
   ],
   "source": [
    "Occupation_2019[lower_boundary_topcategory[count-1]]"
   ]
  },
  {
   "cell_type": "code",
   "execution_count": null,
   "metadata": {},
   "outputs": [],
   "source": [
    "for i in temp2:\n",
    "    temp3 = Occupation_2019[i]\n",
    "    print(temp3)"
   ]
  },
  {
   "cell_type": "code",
   "execution_count": null,
   "metadata": {},
   "outputs": [],
   "source": [
    "temp2"
   ]
  },
  {
   "cell_type": "code",
   "execution_count": null,
   "metadata": {},
   "outputs": [],
   "source": [
    "Occupation_name_lineitems_index"
   ]
  },
  {
   "cell_type": "code",
   "execution_count": null,
   "metadata": {},
   "outputs": [],
   "source": [
    "temp2"
   ]
  },
  {
   "cell_type": "code",
   "execution_count": null,
   "metadata": {},
   "outputs": [],
   "source": [
    "lower_boundary_topcategory[count-1]"
   ]
  },
  {
   "cell_type": "code",
   "execution_count": null,
   "metadata": {},
   "outputs": [],
   "source": [
    "temp = [x for x in Occupation_name_lineitems_index if lower_boundary_topcategory[count-1] < Occupation_name_lineitems_index < upper_boundary_topcategory[count-1]]\n",
    "temp"
   ]
  },
  {
   "cell_type": "code",
   "execution_count": null,
   "metadata": {},
   "outputs": [],
   "source": [
    "upper_boundary_topcategory[count-1]"
   ]
  },
  {
   "cell_type": "code",
   "execution_count": null,
   "metadata": {},
   "outputs": [],
   "source": [
    "len(probability_for_sub_category_new)"
   ]
  },
  {
   "cell_type": "code",
   "execution_count": null,
   "metadata": {},
   "outputs": [],
   "source": [
    "sum(probability_for_sub_category_new)"
   ]
  },
  {
   "cell_type": "code",
   "execution_count": null,
   "metadata": {},
   "outputs": [],
   "source": [
    "Occupation_percent_2019_new?"
   ]
  },
  {
   "cell_type": "code",
   "execution_count": null,
   "metadata": {},
   "outputs": [],
   "source": [
    "number_sub_Occupation_2019"
   ]
  },
  {
   "cell_type": "code",
   "execution_count": null,
   "metadata": {},
   "outputs": [],
   "source": [
    "number_sub_Occupation_2019 = Occupation_2019[lower_boundary_topcategory[count-1]+1:upper_boundary_topcategory[count-1]]\n",
    "number_sub_Occupation_2019\n"
   ]
  },
  {
   "cell_type": "code",
   "execution_count": null,
   "metadata": {},
   "outputs": [],
   "source": [
    "upper_boundary_topcategory[count-1]-1"
   ]
  },
  {
   "cell_type": "code",
   "execution_count": null,
   "metadata": {},
   "outputs": [],
   "source": [
    "lower_boundary_topcategory"
   ]
  },
  {
   "cell_type": "code",
   "execution_count": null,
   "metadata": {},
   "outputs": [],
   "source": [
    "probability_for_sub_category_new"
   ]
  },
  {
   "cell_type": "code",
   "execution_count": null,
   "metadata": {},
   "outputs": [],
   "source": [
    "#Assign sub category\n",
    "\n",
    "for i in individual_occupation_top_category:\n",
    "    #Where top category starts\n",
    "    ç = Employment_titles.index(i)\n",
    "    #Where top category ends\n",
    "    for i in Occupation_code_topcategories_index:\n",
    "        print(lower_boundary_topcategory)\n",
    "        if i > lower_boundary_topcategory:\n",
    "            break\n",
    "            upper_boundary_topcategory = i\n",
    "            print(upper_boundary_topcategory)\n",
    "            gfdg"
   ]
  },
  {
   "cell_type": "code",
   "execution_count": null,
   "metadata": {},
   "outputs": [],
   "source": [
    "individual_occupation_top_category"
   ]
  },
  {
   "cell_type": "code",
   "execution_count": null,
   "metadata": {},
   "outputs": [],
   "source": [
    "print(lower_boundary_topcategory)\n",
    "Occupation_code_topcategories_index"
   ]
  },
  {
   "cell_type": "code",
   "execution_count": null,
   "metadata": {},
   "outputs": [],
   "source": [
    "\n",
    "for i in Occupation_code_topcategories_index:\n",
    "    if i > lower_boundary_topcategory:\n",
    "        break\n",
    "    upper_boundary_topcategory = i\n",
    "    print(upper_boundary_topcategory)"
   ]
  },
  {
   "cell_type": "code",
   "execution_count": null,
   "metadata": {},
   "outputs": [],
   "source": [
    "Occupation_code_topcategories_index?"
   ]
  },
  {
   "cell_type": "code",
   "execution_count": null,
   "metadata": {},
   "outputs": [],
   "source": [
    "Occupation_code_topcategories_index"
   ]
  },
  {
   "cell_type": "code",
   "execution_count": null,
   "metadata": {},
   "outputs": [],
   "source": [
    "temp = Employment_titles_topcategories\n",
    "del temp[0]\n",
    "for i in temp:\n",
    "    if i ==0:\n",
    "        \n",
    "\n",
    "Occupation_percent_2019_new"
   ]
  },
  {
   "cell_type": "code",
   "execution_count": null,
   "metadata": {},
   "outputs": [],
   "source": [
    "temp = Employment_titles_topcategories.remove(0)\n",
    "#temp\n",
    "#Employment_titles_topcategories\n",
    "temp"
   ]
  },
  {
   "cell_type": "code",
   "execution_count": null,
   "metadata": {},
   "outputs": [],
   "source": [
    "#for i in Occupation_code_topcategories_index:\n",
    "#print(Occupation_code_topcategories['Employment distribution, percent, 2019'])\n",
    "#sum(Occupation_code_topcategories['Employment distribution, percent, 2019'])\n",
    "gender_distribution_female + gender_distribution_male + gender_other\n",
    "\n",
    "#Occupation_2019_numbers_top"
   ]
  },
  {
   "cell_type": "code",
   "execution_count": null,
   "metadata": {},
   "outputs": [],
   "source": []
  },
  {
   "cell_type": "code",
   "execution_count": null,
   "metadata": {},
   "outputs": [],
   "source": [
    "\n",
    "\n",
    "random.choices(population=[['a','b'], ['b','a'], ['c','b']],weights=[0.2, 0.2, 0.6],k=10)\n",
    "    "
   ]
  },
  {
   "cell_type": "code",
   "execution_count": null,
   "metadata": {},
   "outputs": [],
   "source": [
    "Occupation_percent_2019_new"
   ]
  },
  {
   "cell_type": "code",
   "execution_count": null,
   "metadata": {},
   "outputs": [],
   "source": [
    "# = df1['2019 National Employment Matrix code'].loc[df1['2019 National Employment Matrix code'] == '-0000']\n",
    "Occupation_code_topcategories_index"
   ]
  },
  {
   "cell_type": "code",
   "execution_count": null,
   "metadata": {},
   "outputs": [],
   "source": [
    "count = 0\n",
    "for i in range(len(Employment_titles)):\n",
    "    count += 1\n",
    "    # separate \"Summary\" from \"Line item\"\n",
    "    if i in Occupation_code_allcategories_index:\n",
    "        #Separate top categories from sub categories (1st level)\n",
    "        if str('-0000') in Occupation_code[i]:\n",
    "            Matrix_code_topcategories[i] = Occupation_code[i]\n",
    "            Employment_titles_topcategories[i] = Employment_titles[i]\n",
    "            Occupation_2019_numbers_top[i] = Occupation_2019[i]\n",
    "        else:\n",
    "            if str('000') in Occupation_code[i]:\n",
    "                # if separate sub (2nd level) from subsub (3rd level category) \n",
    "                Matrix_code_subcategories[i] = Occupation_code[i]\n",
    "                Employment_titles_subcategories[i] = Employment_titles[i]\n",
    "                Occupation_2019_numbers_sub[i] = Occupation_2019[i]\n",
    "            else:\n",
    "                Matrix_code_subsubcategories[i] = Occupation_code[i]\n",
    "                Employment_titles_subsubcategories[i] = Employment_titles[i]\n",
    "                Occupation_2019_numbers_subsub[i] = Occupation_2019[i]\n",
    "    # if \"Line item\" (4th level)\n",
    "    else:\n",
    "        Matrix_code_lineitems[i] = Occupation_code[i]\n",
    "        Employment_titles_lineitems[i] = Employment_titles[i]\n",
    "        Occupation_2019_numbers_lineitem[i] = Occupation_2019[i]\n",
    "\n",
    "#print(Matrix_code_topcategories)    \n",
    "#print(Employment_titles_topcategories)       \n",
    "#print(Matrix_code_subcategories)    \n",
    "#print(Employment_titles_subcategories)\n",
    "#print(Matrix_code_lineitems)    \n",
    "#print(Employment_titles_lineitems)"
   ]
  },
  {
   "cell_type": "code",
   "execution_count": null,
   "metadata": {},
   "outputs": [],
   "source": [
    "Matrix_code_subsubcategories"
   ]
  },
  {
   "cell_type": "code",
   "execution_count": null,
   "metadata": {},
   "outputs": [],
   "source": [
    "Matrix_code_subcategories"
   ]
  },
  {
   "cell_type": "code",
   "execution_count": null,
   "metadata": {},
   "outputs": [],
   "source": [
    "# Quality Check!\n",
    "Percent_employments_2019 = [0]*len(Employment_titles)\n",
    "Number_employments_2019 = [0]*len(Employment_titles)\n",
    "count=0\n",
    "if data_test == 1:\n",
    "    for i in Matrix_code_topcategories:\n",
    "        count +=1\n",
    "        Percent_employments = df1['Employment distribution, percent, 2019'].loc[df1['2019 National Employment Matrix code'] == i]\n",
    "        Number_employments = df1['Employment, 2019'].loc[df1['2019 National Employment Matrix code'] == i]\n",
    "        if Number_employments[count-1] > 0:\n",
    "            Percent_employments_2019[count-1] = float(Percent_employments)\n",
    "            Number_employments_2019[count-1] = float(Number_employments)\n",
    "        else:\n",
    "            Percent_employments_2019[count-1] = 0\n",
    "            Number_employments_2019[count-1] = 0\n",
    "        #if count == 1:\n",
    "        trer\n",
    "    #print(Percent_employments_2019)\n",
    "    #Sum top category numbers excluding total value\n",
    "    Sum_number_employment_2019 = Number_employments_2019\n",
    "    del Sum_number_employment_2019[0]\n",
    "    xxxxx = sum(Sum_number_employment_2019)\n",
    "        \n",
    "        \n",
    "#Management_occupations_all['Employment, 2019'].loc[Management_occupations_all['Occupation type'] == 'Line item']    "
   ]
  },
  {
   "cell_type": "code",
   "execution_count": null,
   "metadata": {},
   "outputs": [],
   "source": [
    "Occupation_2019_numbers_top"
   ]
  },
  {
   "cell_type": "code",
   "execution_count": null,
   "metadata": {},
   "outputs": [],
   "source": [
    "df1['Employment distribution, percent, 2019'].loc[df1['2019 National Employment Matrix code'] == '00-0000']"
   ]
  },
  {
   "cell_type": "code",
   "execution_count": null,
   "metadata": {},
   "outputs": [],
   "source": [
    "count"
   ]
  },
  {
   "cell_type": "code",
   "execution_count": null,
   "metadata": {},
   "outputs": [],
   "source": [
    "#Strings of occupation names\n",
    "        #Occupation_name_topcategories = df1['2019 National Employment Matrix title'].loc[df1['2019 National Employment Matrix code'] == i]\n",
    "        #Employment_titles_topcategories[count-1] = Occupation_name_topcategories\n",
    "         #= df1['2019 National Employment Matrix title'].loc[df1['2019 National Employment Matrix code'] == i]"
   ]
  },
  {
   "cell_type": "code",
   "execution_count": null,
   "metadata": {},
   "outputs": [],
   "source": [
    "Matrix_code_lineitems"
   ]
  },
  {
   "cell_type": "code",
   "execution_count": null,
   "metadata": {},
   "outputs": [],
   "source": [
    "df1['2019 National Employment Matrix code'].loc[df1['Occupation type'] == 'Line item'][3]"
   ]
  },
  {
   "cell_type": "code",
   "execution_count": null,
   "metadata": {},
   "outputs": [],
   "source": [
    "Occupation_code[7]"
   ]
  },
  {
   "cell_type": "code",
   "execution_count": null,
   "metadata": {},
   "outputs": [],
   "source": [
    "df1['2019 National Employment Matrix code'].loc[df1['Occupation type'] == 'Line item'][7]"
   ]
  },
  {
   "cell_type": "code",
   "execution_count": null,
   "metadata": {},
   "outputs": [],
   "source": [
    "df1['2019 National Employment Matrix title'].loc[df1['2019 National Employment Matrix code'] == i]"
   ]
  },
  {
   "cell_type": "code",
   "execution_count": null,
   "metadata": {},
   "outputs": [],
   "source": [
    "i"
   ]
  },
  {
   "cell_type": "code",
   "execution_count": null,
   "metadata": {},
   "outputs": [],
   "source": [
    "Employment_titles"
   ]
  },
  {
   "cell_type": "code",
   "execution_count": null,
   "metadata": {},
   "outputs": [],
   "source": [
    "i"
   ]
  },
  {
   "cell_type": "code",
   "execution_count": null,
   "metadata": {},
   "outputs": [],
   "source": [
    "\n",
    "count = 0\n",
    "for i in Occupation_code_allcategories_index:\n",
    "    count += 1\n",
    "    temp = Occupation_code_allcategories['2019 National Employment Matrix title'][i]\n",
    "\n",
    "count = 0\n",
    "Matrix_code_topcategories = []\n",
    "Matrix_code_subcategories = []\n",
    "Employment_titles_topcategories=[]\n",
    "Employment_titles_subcategories=[]\n",
    "#range(len(Occupation_code_allcategories['2019 National Employment Matrix title']))\n",
    "\n",
    "    temp.replace(' ', '_')\n",
    "    Employment_titles_topcategories.append(temp)\n",
    "    \n",
    "    if str('-0000') in Occupation_code:\n",
    "        cvbcvb\n",
    "        Matrix_code_topcategories.append(i)\n",
    "        #Strings of occupation names\n",
    "        Occupation_name_topcategories = df1['2019 National Employment Matrix title'].loc[df1['2019 National Employment Matrix code'] == i]\n",
    "        #Occupation_name_topcategories.apply(str)\n",
    "        #Occupation_name_topcategories.replace(\" \", \"_\" and ',', '')\n",
    "        Employment_titles_topcategories[count-1] = Occupation_name_topcategories\n",
    "    else:\n",
    "        Matrix_code_subcategories.append(i)\n",
    "        Occupation_name_subcategories = df1['2019 National Employment Matrix title'].loc[df1['2019 National Employment Matrix code'] == i]\n",
    "\n",
    "#for i in Occupation_name_topcategories:\n",
    "    \n",
    "#    Employment_titles_topcategories = i.replace(\" \", \"_\" and ',', '')\n",
    "#print(Employment_titles_topcategories)\n",
    "Employment_titles = [0]*len(Occupation_titles)\n",
    "count = 0        \n",
    "for i in range(len(Occupation_titles)):\n",
    "    count += 1\n",
    "    temp = Occupation_titles[count-1].replace(' ', '_')\n",
    "    Employment_titles_temp = temp\n",
    "    Employment_titles_temp2 = Employment_titles_temp.replace(',', '')\n",
    "    Employment_titles[count-1] = Employment_titles_temp2\n",
    "\n",
    "print(Employment_titles)"
   ]
  },
  {
   "cell_type": "code",
   "execution_count": null,
   "metadata": {},
   "outputs": [],
   "source": [
    "range(len(Employment_titles_topcategories))"
   ]
  },
  {
   "cell_type": "code",
   "execution_count": null,
   "metadata": {},
   "outputs": [],
   "source": [
    "Employment_titles_topcategories[1]"
   ]
  },
  {
   "cell_type": "code",
   "execution_count": null,
   "metadata": {},
   "outputs": [],
   "source": [
    "Employment_titles_sum"
   ]
  },
  {
   "cell_type": "code",
   "execution_count": null,
   "metadata": {},
   "outputs": [],
   "source": [
    "df1['Employment, 2019'].loc[df1['Occupation type'] == 'Line item']"
   ]
  },
  {
   "cell_type": "code",
   "execution_count": null,
   "metadata": {},
   "outputs": [],
   "source": [
    "print(Occupation_code_allcategories_index)"
   ]
  },
  {
   "cell_type": "code",
   "execution_count": null,
   "metadata": {},
   "outputs": [],
   "source": [
    "Occupation_code_allcategories"
   ]
  },
  {
   "cell_type": "code",
   "execution_count": null,
   "metadata": {},
   "outputs": [],
   "source": []
  },
  {
   "cell_type": "code",
   "execution_count": null,
   "metadata": {},
   "outputs": [],
   "source": [
    "count=0\n",
    "Percent_employments_2019 = []\n",
    "Number_employments_2019 = []\n",
    "for i in Matrix_code_subcategories:\n",
    "    count +=1\n",
    "    Percent_employments = df1['Employment distribution, percent, 2019'].loc[df1['2019 National Employment Matrix code'] == i] \n",
    "    Number_employments = df1['Employment, 2019'].loc[df1['2019 National Employment Matrix code'] == i]\n",
    "    \n",
    "    Percent_employments_2019.append(Percent_employments)\n",
    "    Number_employments_2019.append(Number_employments)\n",
    "\n",
    "#print(Percent_employments_2019)\n",
    "\n",
    "        \n",
    "        \n",
    "#Management_occupations_all['Employment, 2019'].loc[Management_occupations_all['Occupation type'] == 'Line item']"
   ]
  },
  {
   "cell_type": "code",
   "execution_count": null,
   "metadata": {},
   "outputs": [],
   "source": [
    "Occupation_code_topcategories_index"
   ]
  },
  {
   "cell_type": "code",
   "execution_count": null,
   "metadata": {},
   "outputs": [],
   "source": [
    "#for i in Occupation_code_topcategories_index:\n",
    "print(Occupation_code_topcategories['Employment distribution, percent, 2019'])\n",
    "sum(Occupation_code_topcategories['Employment distribution, percent, 2019'])\n",
    "\n",
    "Occupation_percent_2019_new = [0]*len(Occupation_percent_2019)\n",
    "for i in range(len(Occupation_percent_2019)):\n",
    "    Occupation_percent_2019_new[i] = Occupation_2019[i]/Occupation_2019[0]\n",
    "print(sum(Occupation_percent_2019_new))"
   ]
  },
  {
   "cell_type": "code",
   "execution_count": null,
   "metadata": {},
   "outputs": [],
   "source": []
  },
  {
   "cell_type": "code",
   "execution_count": null,
   "metadata": {},
   "outputs": [],
   "source": [
    "Occupation_code_topcategories?"
   ]
  },
  {
   "cell_type": "code",
   "execution_count": null,
   "metadata": {},
   "outputs": [],
   "source": [
    "###Subheaders\n",
    "#Occupation Categories\n",
    "All_occupations = df1[0:1]\n",
    "#Management occupations 11\n",
    "Management_occupations = df1[1:2]\n",
    "#Business and financial operations occupations 13\n",
    "Business_and_financial_operations_occupations =df1[42:43]\n",
    "#Computer and mathematical occupations 15\n",
    "Computer_and_mathematical_occupations = df1[78:79]\n",
    "#Architecture and engineering occupations 17\n",
    "Architecture_and_engineering_occupations = df1[102:103]\n",
    "#Life, physical, and social science occupations 19\n",
    "Life_physical_and_social_science_occupations = df1[147:148]\n",
    "#Community and social service occupations 21\n",
    "Community_and_social_service_occupations = df1[209:210]\n",
    "#Legal occupations 23\n",
    "Legal_occupations = df1[233:234]\n",
    "#Educational instruction and library occupations 25\n",
    "Educational_instruction_and_library_occupations = df1[246:247]\n",
    "#Arts, design, entertainment, sports, and media occupations 27\n",
    "Arts_design_entertainment_sports_and_media_occupations = df1[331:332]\n",
    "#Healthcare practitioners and technical occupations 29\n",
    "Healthcare_practitioners_and_technical_occupations = df1[384:385]\n",
    "#Healthcare support occupations 31\n",
    "Healthcare_support_occupations = df1[448:449]\n",
    "#Protective service occupations 33\n",
    "Protective_service_occupations = df1[473:474]\n",
    "#Food preparation and serving related occupations 35\n",
    "Food_preparation_and_serving_related_occupations = df1[506:507]\n",
    "#Building and grounds cleaning and maintenance occupations 37\n",
    "Building_and_grounds_cleaning_and_maintenance_occupations = df1[529:530]\n",
    "#Personal care and service occupations 39\n",
    "Personal_care_and_service_occupations = df1[544:545]\n",
    "#Sales and related occupations 41\n",
    "Sales_and_related_occupations = df1[586:587]\n",
    "#Office and administrative support occupations 43\n",
    "Office_and_administrative_support_occupations = df1[619:620]\n",
    "#Farming, fishing, and forestry occupations 45\n",
    "Farming_fishing_and_forestry_occupations = df1[684:685]\n",
    "#Construction and extraction occupations 47\n",
    "Construction_and_extraction_occupations = df1[705:706]\n",
    "#Installation, maintenance, and repair occupations 49\n",
    "Installation_maintenance_and_repair_occupations = df1[778:779]\n",
    "#Production occupations 51\n",
    "Production_occupations = df1[845:846]\n",
    "#Transportation and material moving occupations 53\n",
    "Transportation_and_material_moving_occupations = df1[985:986]\n",
    "\n",
    "\n",
    "\n",
    "\n",
    "\n",
    "\n",
    "Management_occupations_all = df1[2:42]\n",
    "Management_occupations_sum = np.sum(Management_occupations_all['Employment, 2019'].loc[Management_occupations_all['Occupation type'] == 'Line item'])\n",
    "\n",
    "\n",
    "Business_and_financial_operations_occupations_all = df1[43:78]\n",
    "Business_and_financial_operations_occupations_sum = np.sum(Business_and_financial_operations_occupations_all['Employment, 2019'].loc[Business_and_financial_operations_occupations_all['Occupation type'] == 'Line item'])\n",
    "\n",
    "\n",
    "Computer_and_mathematical_occupations_all = df1[79:102]\n",
    "Computer_and_mathematical_occupations_sum = np.sum(Computer_and_mathematical_occupations_all['Employment, 2019'].loc[Computer_and_mathematical_occupations_all['Occupation type'] == 'Line item'])\n",
    "\n",
    "\n",
    "Architecture_and_engineering_occupations_all = df1[103:147]\n",
    "Architecture_and_engineering_occupations_sum = np.sum(Architecture_and_engineering_occupations_all['Employment, 2019'].loc[Architecture_and_engineering_occupations_all['Occupation type'] == 'Line item'])\n",
    "\n",
    "\n",
    "Life_physical_and_social_science_occupations_all = df1[148:209]\n",
    "Life_physical_and_social_science_occupations_sum = np.sum(Life_physical_and_social_science_occupations_all['Employment, 2019'].loc[Life_physical_and_social_science_occupations_all['Occupation type'] == 'Line item'])\n",
    "\n",
    "\n",
    "Community_and_social_service_occupations_all = df1[210:232]\n",
    "Community_and_social_service_occupations_sum = np.sum(Community_and_social_service_occupations_all['Employment, 2019'].loc[Community_and_social_service_occupations_all['Occupation type'] == 'Line item'])\n",
    "\n",
    "\n",
    "Legal_occupations_all = df1[234:246]\n",
    "Legal_occupations_sum = np.sum(Legal_occupations_all['Employment, 2019'].loc[Legal_occupations_all['Occupation type'] == 'Line item'])\n",
    "\n",
    "\n",
    "Educational_instruction_and_library_occupations_all = df1[247:331]\n",
    "Educational_instruction_and_library_occupations_sum = np.sum(Educational_instruction_and_library_occupations_all['Employment, 2019'].loc[Educational_instruction_and_library_occupations_all['Occupation type'] == 'Line item'])\n",
    "\n",
    "\n",
    "Arts_design_entertainment_sports_and_media_occupations_all = df1[332:384]\n",
    "Arts_design_entertainment_sports_and_media_occupations_sum = np.sum(Arts_design_entertainment_sports_and_media_occupations_all['Employment, 2019'].loc[Arts_design_entertainment_sports_and_media_occupations_all['Occupation type'] == 'Line item'])\n",
    "\n",
    "\n",
    "Healthcare_practitioners_and_technical_occupations_all = df1[385:448]\n",
    "Healthcare_practitioners_and_technical_occupations_sum = np.sum(Healthcare_practitioners_and_technical_occupations_all['Employment, 2019'].loc[Healthcare_practitioners_and_technical_occupations_all['Occupation type'] == 'Line item'])\n",
    "\n",
    "\n",
    "Healthcare_support_occupations_all = df1[449:473]\n",
    "Healthcare_support_occupations_sum = np.sum(Healthcare_support_occupations_all['Employment, 2019'].loc[Healthcare_support_occupations_all['Occupation type'] == 'Line item'])\n",
    "\n",
    "\n",
    "Protective_service_occupations_all = df1[474:506]\n",
    "Protective_service_occupations_sum = np.sum(Protective_service_occupations_all['Employment, 2019'].loc[Protective_service_occupations_all['Occupation type'] == 'Line item'])\n",
    "\n",
    "\n",
    "Food_preparation_and_serving_related_occupations_all = df1[507:529]\n",
    "Food_preparation_and_serving_related_occupations_sum = np.sum(Food_preparation_and_serving_related_occupations_all['Employment, 2019'].loc[Food_preparation_and_serving_related_occupations_all['Occupation type'] == 'Line item'])\n",
    "\n",
    "\n",
    "Building_and_grounds_cleaning_and_maintenance_occupations_all = df1[530:544]\n",
    "Building_and_grounds_cleaning_and_maintenance_occupations_sum = np.sum(Building_and_grounds_cleaning_and_maintenance_occupations_all['Employment, 2019'].loc[Building_and_grounds_cleaning_and_maintenance_occupations_all['Occupation type'] == 'Line item'])\n",
    "\n",
    "\n",
    "Personal_care_and_service_occupations_all = df1[545:586]\n",
    "Personal_care_and_service_occupations_sum = np.sum(Personal_care_and_service_occupations_all['Employment, 2019'].loc[Personal_care_and_service_occupations_all['Occupation type'] == 'Line item'])\n",
    "\n",
    "\n",
    "Sales_and_related_occupations_all = df1[587:619]\n",
    "Sales_and_related_occupations_sum = np.sum(Sales_and_related_occupations_all['Employment, 2019'].loc[Sales_and_related_occupations_all['Occupation type'] == 'Line item'])\n",
    "\n",
    "\n",
    "Office_and_administrative_support_occupations_all = df1[620:684]\n",
    "Office_and_administrative_support_occupations_sum = np.sum(Office_and_administrative_support_occupations_all['Employment, 2019'].loc[Office_and_administrative_support_occupations_all['Occupation type'] == 'Line item'])\n",
    "\n",
    "\n",
    "Farming_fishing_and_forestry_occupations_all = df1[685:705]\n",
    "Farming_fishing_and_forestry_occupations_sum = np.sum(Farming_fishing_and_forestry_occupations_all['Employment, 2019'].loc[Farming_fishing_and_forestry_occupations_all['Occupation type'] == 'Line item'])\n",
    "\n",
    "\n",
    "Construction_and_extraction_occupations_all = df1[706:778]\n",
    "Construction_and_extraction_occupations_sum = np.sum(Construction_and_extraction_occupations_all['Employment, 2019'].loc[Construction_and_extraction_occupations_all['Occupation type'] == 'Line item'])\n",
    "\n",
    "\n",
    "Installation_maintenance_and_repair_occupations_all = df1[779:845]\n",
    "Installation_maintenance_and_repair_occupations_sum = np.sum(Installation_maintenance_and_repair_occupations_all['Employment, 2019'].loc[Installation_maintenance_and_repair_occupations_all['Occupation type'] == 'Line item'])\n",
    "\n",
    "\n",
    "Production_occupations_all = df1[846:985]\n",
    "Production_occupations_sum = np.sum(Production_occupations_all['Employment, 2019'].loc[Production_occupations_all['Occupation type'] == 'Line item'])\n",
    "\n",
    "\n",
    "Transportation_and_material_moving_occupations_all = df1[986:1048]\n",
    "Transportation_and_material_moving_occupations_sum = np.sum(Transportation_and_material_moving_occupations_all['Employment, 2019'].loc[Transportation_and_material_moving_occupations_all['Occupation type'] == 'Line item'])\n",
    "\n",
    "#Data quality check\n",
    "\n",
    "if data_test ==1:\n",
    "    All_total_01 = All_occupations['Employment, 2019']\n",
    "    All_total_02 = Management_occupations_sum + Business_and_financial_operations_occupations_sum + Computer_and_mathematical_occupations_sum + Architecture_and_engineering_occupations_sum + Life_physical_and_social_science_occupations_sum + Community_and_social_service_occupations_sum + Legal_occupations_sum + Educational_instruction_and_library_occupations_sum + Arts_design_entertainment_sports_and_media_occupations_sum + Healthcare_practitioners_and_technical_occupations_sum + Healthcare_support_occupations_sum + Protective_service_occupations_sum + Food_preparation_and_serving_related_occupations_sum + Building_and_grounds_cleaning_and_maintenance_occupations_sum + Personal_care_and_service_occupations_sum + Sales_and_related_occupations_sum + Office_and_administrative_support_occupations_sum + Farming_fishing_and_forestry_occupations_sum + Construction_and_extraction_occupations_sum + Installation_maintenance_and_repair_occupations_sum + Production_occupations_sum + Transportation_and_material_moving_occupations_sum \n",
    "    All_total_03 = np.sum(df1['Employment, 2019'].loc[df1['Occupation type'] == 'Line item'])\n",
    "\n",
    "    All_total_dif_01 = All_total_01 - All_total_02\n",
    "    All_total_dif_02 = All_total_01 - All_total_03\n",
    "if abs(int(All_total_dif_01)) <= 10 and abs(int(All_total_dif_02)) <= 10:\n",
    "    print(\"Data is okay\")\n",
    "else:\n",
    "    print(\"Oops! Your data input is too faulty\")\n",
    "    \n",
    "# Percentages in Excel sheet are hard numbers\n",
    "# Recalculate percentages to avoid really small numbers = 0\n",
    "# e.g. Aircraft cargo handling supervisors percentage = 0.0 while at least 1 person is obviously doing exactly this!\n",
    "#Transportation_and_material_moving_occupations_all['Employment distribution, percent, 2019']\n",
    "#Legal_occupations_percentage_sum = np.sum(Legal_occupations_all['Employment distribution, percent, 2019'].loc[Legal_occupations_all['Occupation type'] == 'Line item'])\n",
    "# Percentages represent percentages of total amount of all occupations (not just the subcategory!)\n",
    "\n",
    "\n",
    "\n",
    "\n",
    "\n"
   ]
  },
  {
   "cell_type": "code",
   "execution_count": null,
   "metadata": {},
   "outputs": [],
   "source": [
    "Matrix_code_subcategories.index"
   ]
  },
  {
   "cell_type": "code",
   "execution_count": null,
   "metadata": {},
   "outputs": [],
   "source": [
    "Occupation_code_allcategories"
   ]
  },
  {
   "cell_type": "code",
   "execution_count": null,
   "metadata": {},
   "outputs": [],
   "source": [
    "All_occupations['Employment, 2019']"
   ]
  },
  {
   "cell_type": "code",
   "execution_count": null,
   "metadata": {},
   "outputs": [],
   "source": [
    "np.sum(Management_occupations_all['Employment, 2019'].loc[Management_occupations_all['Occupation type'] == 'Line item'])"
   ]
  },
  {
   "cell_type": "code",
   "execution_count": null,
   "metadata": {},
   "outputs": [],
   "source": [
    "df1.loc[(df1['2019 National Employment Matrix code'] == '11-0000')"
   ]
  },
  {
   "cell_type": "code",
   "execution_count": null,
   "metadata": {},
   "outputs": [],
   "source": [
    "df1.shape"
   ]
  },
  {
   "cell_type": "code",
   "execution_count": null,
   "metadata": {},
   "outputs": [],
   "source": [
    "df1.sample()"
   ]
  },
  {
   "cell_type": "code",
   "execution_count": null,
   "metadata": {},
   "outputs": [],
   "source": [
    "import pandas as pd\n",
    "df = pd.read_excel (r'C:\\Users\\Nasim\\Desktop\\Evolution_game_project\\occupation.xlsx')\n",
    "\n"
   ]
  }
 ],
 "metadata": {
  "kernelspec": {
   "display_name": "Python 3",
   "language": "python",
   "name": "python3"
  },
  "language_info": {
   "codemirror_mode": {
    "name": "ipython",
    "version": 3
   },
   "file_extension": ".py",
   "mimetype": "text/x-python",
   "name": "python",
   "nbconvert_exporter": "python",
   "pygments_lexer": "ipython3",
   "version": "3.8.8"
  }
 },
 "nbformat": 4,
 "nbformat_minor": 4
}
