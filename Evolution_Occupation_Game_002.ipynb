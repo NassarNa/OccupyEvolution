{
 "cells": [
  {
   "cell_type": "code",
   "execution_count": null,
   "metadata": {
    "collapsed": true
   },
   "outputs": [],
   "source": []
  },
  {
   "cell_type": "code",
   "execution_count": 1,
   "metadata": {
    "collapsed": false
   },
   "outputs": [
    {
     "name": "stdout",
     "output_type": "stream",
     "text": [
      "Data is okay\n"
     ]
    }
   ],
   "source": [
    "#Imports\n",
    "import pandas as pd\n",
    "import numpy as np\n",
    "\n",
    "#Load database file(s)\n",
    "#Source: Employment Projections program, U.S. Bureau of Labor Statistics\n",
    "xls = pd.ExcelFile(r'C:\\Users\\Nasim\\Desktop\\Evolution_game_project\\occupation_canedit.xlsx')\n",
    "\n",
    "#Random seeds\n",
    "#Fixed seed\n",
    "\n",
    "#Load sheets as dataframes\n",
    "df1 = pd.read_excel(xls, 'Table 1.2') #Main Database\n",
    "df2 = pd.read_excel(xls, 'Table 1.3')\n",
    "\n",
    "#Data quality check\n",
    "data_test = 1\n",
    "\n",
    "#Headers\n",
    "Occupation_titles = df1['2019 National Employment Matrix title'].tolist()\n",
    "Occupation_code = df1['2019 National Employment Matrix code'].tolist()\n",
    "Occupation_type = df1['Occupation type'].tolist()\n",
    "Occupation_2019 = df1['Employment, 2019'].tolist()\n",
    "Occupation_2029 = df1['Employment, 2029'].tolist()\n",
    "Occupation_percent_2019 = df1['Employment distribution, percent, 2019'].tolist()\n",
    "Occupation_percent_2029 = df1['Employment distribution, percent, 2029'].tolist()\n",
    "Occupation_change_numeric = df1['Employment change, numeric, 2019-29'].tolist()\n",
    "Occupation_change_percent = df1['Employment change, percent, 2019-29'].tolist()\n",
    "Occupation_annual_average = df1['Occupational openings, 2019-29 annual average'].tolist()\n",
    "\n",
    "#Create strings for variable names\n",
    "\n",
    "#Matrix codes for occupations categories starting at 11 , 13 , 15 .... 53\n",
    "#Matrix_code_topcategories = np.arange(11, 53, 2).tolist()\n",
    "#Matrix_code_subcategories = np.arange(1000, 9000, 1000).tolist()\n",
    "\n",
    "# Occupation (all) top and sub-categories \n",
    "Occupation_code_allcategories = df1.loc[df1['Occupation type'] == 'Summary']\n",
    "# Occupation all categories index\n",
    "Occupation_code_allcategories_index = Occupation_code_allcategories.index\n",
    "\n",
    "\n",
    "\n",
    "count = 0\n",
    "Matrix_code_topcategories = []\n",
    "Matrix_code_subcategories = []\n",
    "for i in Occupation_code:\n",
    "    count += 1\n",
    "    if str('-0000') in i:\n",
    "        Matrix_code_topcategories.append(i)\n",
    "    else:\n",
    "        Matrix_code_subcategories.append(i)\n",
    "\n",
    "\n",
    "\n",
    "        \n",
    "        \n",
    "        \n",
    "count = 0\n",
    "Occupation_code_index = []\n",
    "for i in Occupation_code:\n",
    "    count += 1\n",
    "    if str('-0000') in i:\n",
    "        Occupation_code_index.append(count-1)\n",
    "        #print(Occupation_code_index)\n",
    "\n",
    "\n",
    "\n",
    "###Subheaders\n",
    "#Occupation Categories\n",
    "All_occupations = df1[0:1]\n",
    "#Management occupations 11\n",
    "Management_occupations = df1[1:2]\n",
    "#Business and financial operations occupations 13\n",
    "Business_and_financial_operations_occupations =df1[42:43]\n",
    "#Computer and mathematical occupations 15\n",
    "Computer_and_mathematical_occupations = df1[78:79]\n",
    "#Architecture and engineering occupations 17\n",
    "Architecture_and_engineering_occupations = df1[102:103]\n",
    "#Life, physical, and social science occupations 19\n",
    "Life_physical_and_social_science_occupations = df1[147:148]\n",
    "#Community and social service occupations 21\n",
    "Community_and_social_service_occupations = df1[209:210]\n",
    "#Legal occupations 23\n",
    "Legal_occupations = df1[233:234]\n",
    "#Educational instruction and library occupations 25\n",
    "Educational_instruction_and_library_occupations = df1[246:247]\n",
    "#Arts, design, entertainment, sports, and media occupations 27\n",
    "Arts_design_entertainment_sports_and_media_occupations = df1[331:332]\n",
    "#Healthcare practitioners and technical occupations 29\n",
    "Healthcare_practitioners_and_technical_occupations = df1[384:385]\n",
    "#Healthcare support occupations 31\n",
    "Healthcare_support_occupations = df1[448:449]\n",
    "#Protective service occupations 33\n",
    "Protective_service_occupations = df1[473:474]\n",
    "#Food preparation and serving related occupations 35\n",
    "Food_preparation_and_serving_related_occupations = df1[506:507]\n",
    "#Building and grounds cleaning and maintenance occupations 37\n",
    "Building_and_grounds_cleaning_and_maintenance_occupations = df1[529:530]\n",
    "#Personal care and service occupations 39\n",
    "Personal_care_and_service_occupations = df1[544:545]\n",
    "#Sales and related occupations 41\n",
    "Sales_and_related_occupations = df1[586:587]\n",
    "#Office and administrative support occupations 43\n",
    "Office_and_administrative_support_occupations = df1[619:620]\n",
    "#Farming, fishing, and forestry occupations 45\n",
    "Farming_fishing_and_forestry_occupations = df1[684:685]\n",
    "#Construction and extraction occupations 47\n",
    "Construction_and_extraction_occupations = df1[705:706]\n",
    "#Installation, maintenance, and repair occupations 49\n",
    "Installation_maintenance_and_repair_occupations = df1[778:779]\n",
    "#Production occupations 51\n",
    "Production_occupations = df1[845:846]\n",
    "#Transportation and material moving occupations 53\n",
    "Transportation_and_material_moving_occupations = df1[985:986]\n",
    "\n",
    "\n",
    "\n",
    "\n",
    "\n",
    "\n",
    "Management_occupations_all = df1[2:42]\n",
    "Management_occupations_sum = np.sum(Management_occupations_all['Employment, 2019'].loc[Management_occupations_all['Occupation type'] == 'Line item'])\n",
    "\n",
    "\n",
    "Business_and_financial_operations_occupations_all = df1[43:78]\n",
    "Business_and_financial_operations_occupations_sum = np.sum(Business_and_financial_operations_occupations_all['Employment, 2019'].loc[Business_and_financial_operations_occupations_all['Occupation type'] == 'Line item'])\n",
    "\n",
    "\n",
    "Computer_and_mathematical_occupations_all = df1[79:102]\n",
    "Computer_and_mathematical_occupations_sum = np.sum(Computer_and_mathematical_occupations_all['Employment, 2019'].loc[Computer_and_mathematical_occupations_all['Occupation type'] == 'Line item'])\n",
    "\n",
    "\n",
    "Architecture_and_engineering_occupations_all = df1[103:147]\n",
    "Architecture_and_engineering_occupations_sum = np.sum(Architecture_and_engineering_occupations_all['Employment, 2019'].loc[Architecture_and_engineering_occupations_all['Occupation type'] == 'Line item'])\n",
    "\n",
    "\n",
    "Life_physical_and_social_science_occupations_all = df1[148:209]\n",
    "Life_physical_and_social_science_occupations_sum = np.sum(Life_physical_and_social_science_occupations_all['Employment, 2019'].loc[Life_physical_and_social_science_occupations_all['Occupation type'] == 'Line item'])\n",
    "\n",
    "\n",
    "Community_and_social_service_occupations_all = df1[210:232]\n",
    "Community_and_social_service_occupations_sum = np.sum(Community_and_social_service_occupations_all['Employment, 2019'].loc[Community_and_social_service_occupations_all['Occupation type'] == 'Line item'])\n",
    "\n",
    "\n",
    "Legal_occupations_all = df1[234:246]\n",
    "Legal_occupations_sum = np.sum(Legal_occupations_all['Employment, 2019'].loc[Legal_occupations_all['Occupation type'] == 'Line item'])\n",
    "\n",
    "\n",
    "Educational_instruction_and_library_occupations_all = df1[247:331]\n",
    "Educational_instruction_and_library_occupations_sum = np.sum(Educational_instruction_and_library_occupations_all['Employment, 2019'].loc[Educational_instruction_and_library_occupations_all['Occupation type'] == 'Line item'])\n",
    "\n",
    "\n",
    "Arts_design_entertainment_sports_and_media_occupations_all = df1[332:384]\n",
    "Arts_design_entertainment_sports_and_media_occupations_sum = np.sum(Arts_design_entertainment_sports_and_media_occupations_all['Employment, 2019'].loc[Arts_design_entertainment_sports_and_media_occupations_all['Occupation type'] == 'Line item'])\n",
    "\n",
    "\n",
    "Healthcare_practitioners_and_technical_occupations_all = df1[385:448]\n",
    "Healthcare_practitioners_and_technical_occupations_sum = np.sum(Healthcare_practitioners_and_technical_occupations_all['Employment, 2019'].loc[Healthcare_practitioners_and_technical_occupations_all['Occupation type'] == 'Line item'])\n",
    "\n",
    "\n",
    "Healthcare_support_occupations_all = df1[449:473]\n",
    "Healthcare_support_occupations_sum = np.sum(Healthcare_support_occupations_all['Employment, 2019'].loc[Healthcare_support_occupations_all['Occupation type'] == 'Line item'])\n",
    "\n",
    "\n",
    "Protective_service_occupations_all = df1[474:506]\n",
    "Protective_service_occupations_sum = np.sum(Protective_service_occupations_all['Employment, 2019'].loc[Protective_service_occupations_all['Occupation type'] == 'Line item'])\n",
    "\n",
    "\n",
    "Food_preparation_and_serving_related_occupations_all = df1[507:529]\n",
    "Food_preparation_and_serving_related_occupations_sum = np.sum(Food_preparation_and_serving_related_occupations_all['Employment, 2019'].loc[Food_preparation_and_serving_related_occupations_all['Occupation type'] == 'Line item'])\n",
    "\n",
    "\n",
    "Building_and_grounds_cleaning_and_maintenance_occupations_all = df1[530:544]\n",
    "Building_and_grounds_cleaning_and_maintenance_occupations_sum = np.sum(Building_and_grounds_cleaning_and_maintenance_occupations_all['Employment, 2019'].loc[Building_and_grounds_cleaning_and_maintenance_occupations_all['Occupation type'] == 'Line item'])\n",
    "\n",
    "\n",
    "Personal_care_and_service_occupations_all = df1[545:586]\n",
    "Personal_care_and_service_occupations_sum = np.sum(Personal_care_and_service_occupations_all['Employment, 2019'].loc[Personal_care_and_service_occupations_all['Occupation type'] == 'Line item'])\n",
    "\n",
    "\n",
    "Sales_and_related_occupations_all = df1[587:619]\n",
    "Sales_and_related_occupations_sum = np.sum(Sales_and_related_occupations_all['Employment, 2019'].loc[Sales_and_related_occupations_all['Occupation type'] == 'Line item'])\n",
    "\n",
    "\n",
    "Office_and_administrative_support_occupations_all = df1[620:684]\n",
    "Office_and_administrative_support_occupations_sum = np.sum(Office_and_administrative_support_occupations_all['Employment, 2019'].loc[Office_and_administrative_support_occupations_all['Occupation type'] == 'Line item'])\n",
    "\n",
    "\n",
    "Farming_fishing_and_forestry_occupations_all = df1[685:705]\n",
    "Farming_fishing_and_forestry_occupations_sum = np.sum(Farming_fishing_and_forestry_occupations_all['Employment, 2019'].loc[Farming_fishing_and_forestry_occupations_all['Occupation type'] == 'Line item'])\n",
    "\n",
    "\n",
    "Construction_and_extraction_occupations_all = df1[706:778]\n",
    "Construction_and_extraction_occupations_sum = np.sum(Construction_and_extraction_occupations_all['Employment, 2019'].loc[Construction_and_extraction_occupations_all['Occupation type'] == 'Line item'])\n",
    "\n",
    "\n",
    "Installation_maintenance_and_repair_occupations_all = df1[779:845]\n",
    "Installation_maintenance_and_repair_occupations_sum = np.sum(Installation_maintenance_and_repair_occupations_all['Employment, 2019'].loc[Installation_maintenance_and_repair_occupations_all['Occupation type'] == 'Line item'])\n",
    "\n",
    "\n",
    "Production_occupations_all = df1[846:985]\n",
    "Production_occupations_sum = np.sum(Production_occupations_all['Employment, 2019'].loc[Production_occupations_all['Occupation type'] == 'Line item'])\n",
    "\n",
    "\n",
    "Transportation_and_material_moving_occupations_all = df1[986:1048]\n",
    "Transportation_and_material_moving_occupations_sum = np.sum(Transportation_and_material_moving_occupations_all['Employment, 2019'].loc[Transportation_and_material_moving_occupations_all['Occupation type'] == 'Line item'])\n",
    "\n",
    "#Data quality check\n",
    "\n",
    "if data_test ==1:\n",
    "    All_total_01 = All_occupations['Employment, 2019']\n",
    "    All_total_02 = Management_occupations_sum + Business_and_financial_operations_occupations_sum + Computer_and_mathematical_occupations_sum + Architecture_and_engineering_occupations_sum + Life_physical_and_social_science_occupations_sum + Community_and_social_service_occupations_sum + Legal_occupations_sum + Educational_instruction_and_library_occupations_sum + Arts_design_entertainment_sports_and_media_occupations_sum + Healthcare_practitioners_and_technical_occupations_sum + Healthcare_support_occupations_sum + Protective_service_occupations_sum + Food_preparation_and_serving_related_occupations_sum + Building_and_grounds_cleaning_and_maintenance_occupations_sum + Personal_care_and_service_occupations_sum + Sales_and_related_occupations_sum + Office_and_administrative_support_occupations_sum + Farming_fishing_and_forestry_occupations_sum + Construction_and_extraction_occupations_sum + Installation_maintenance_and_repair_occupations_sum + Production_occupations_sum + Transportation_and_material_moving_occupations_sum \n",
    "    All_total_03 = np.sum(df1['Employment, 2019'].loc[df1['Occupation type'] == 'Line item'])\n",
    "\n",
    "    All_total_dif_01 = All_total_01 - All_total_02\n",
    "    All_total_dif_02 = All_total_01 - All_total_03\n",
    "if abs(int(All_total_dif_01)) <= 10 and abs(int(All_total_dif_02)) <= 10:\n",
    "    print(\"Data is okay\")\n",
    "else:\n",
    "    print(\"Oops! Your data input is too faulty\")\n",
    "    \n",
    "# Percentages in Excel sheet are hard numbers\n",
    "# Recalculate percentages to avoid really small numbers = 0\n",
    "# e.g. Aircraft cargo handling supervisors percentage = 0.0 while at least 1 person is obviously doing exactly this!\n",
    "#Transportation_and_material_moving_occupations_all['Employment distribution, percent, 2019']\n",
    "#Legal_occupations_percentage_sum = np.sum(Legal_occupations_all['Employment distribution, percent, 2019'].loc[Legal_occupations_all['Occupation type'] == 'Line item'])\n",
    "# Percentages represent percentages of total amount of all occupations (not just the subcategory!)\n",
    "\n",
    "\n",
    "\n",
    "\n"
   ]
  },
  {
   "cell_type": "code",
   "execution_count": null,
   "metadata": {
    "collapsed": false
   },
   "outputs": [],
   "source": [
    "Matrix_code_subcategories\n"
   ]
  },
  {
   "cell_type": "code",
   "execution_count": null,
   "metadata": {
    "collapsed": false
   },
   "outputs": [],
   "source": [
    "Occupation_code_allcategories_index"
   ]
  },
  {
   "cell_type": "code",
   "execution_count": null,
   "metadata": {
    "collapsed": false
   },
   "outputs": [],
   "source": [
    "Occupation_code_allcategories"
   ]
  },
  {
   "cell_type": "code",
   "execution_count": null,
   "metadata": {
    "collapsed": false
   },
   "outputs": [],
   "source": [
    "All_occupations['Employment, 2019']"
   ]
  },
  {
   "cell_type": "code",
   "execution_count": null,
   "metadata": {
    "collapsed": false
   },
   "outputs": [],
   "source": [
    "np.sum(Management_occupations_all['Employment, 2019'].loc[Management_occupations_all['Occupation type'] == 'Line item'])"
   ]
  },
  {
   "cell_type": "code",
   "execution_count": null,
   "metadata": {
    "collapsed": false,
    "scrolled": false
   },
   "outputs": [],
   "source": [
    "df1.loc[(df1['2019 National Employment Matrix code'] == '11-0000')"
   ]
  },
  {
   "cell_type": "code",
   "execution_count": null,
   "metadata": {
    "collapsed": false
   },
   "outputs": [],
   "source": [
    "df1.shape"
   ]
  },
  {
   "cell_type": "code",
   "execution_count": null,
   "metadata": {
    "collapsed": false
   },
   "outputs": [],
   "source": [
    "df1.sample()"
   ]
  },
  {
   "cell_type": "code",
   "execution_count": null,
   "metadata": {
    "collapsed": true
   },
   "outputs": [],
   "source": [
    "import pandas as pd\n",
    "df = pd.read_excel (r'C:\\Users\\Nasim\\Desktop\\Evolution_game_project\\occupation.xlsx')\n",
    "\n"
   ]
  }
 ],
 "metadata": {
  "kernelspec": {
   "display_name": "Python 3",
   "language": "python",
   "name": "python3"
  },
  "language_info": {
   "codemirror_mode": {
    "name": "ipython",
    "version": 3
   },
   "file_extension": ".py",
   "mimetype": "text/x-python",
   "name": "python",
   "nbconvert_exporter": "python",
   "pygments_lexer": "ipython3",
   "version": "3.6.0"
  }
 },
 "nbformat": 4,
 "nbformat_minor": 2
}
